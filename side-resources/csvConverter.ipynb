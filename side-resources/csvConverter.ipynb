{
 "cells": [
  {
   "cell_type": "code",
   "execution_count": 35,
   "id": "571e506f-2a30-4677-8b3a-6f8a197e7936",
   "metadata": {},
   "outputs": [],
   "source": [
    "import rasterio as rio\n",
    "import numpy as np\n",
    "import fiona\n",
    "from fiona import crs"
   ]
  },
  {
   "cell_type": "code",
   "execution_count": 66,
   "id": "37bd145c-0e5f-484b-82ab-d427771962e0",
   "metadata": {},
   "outputs": [
    {
     "name": "stdout",
     "output_type": "stream",
     "text": [
      "{'driver': 'GTiff', 'dtype': 'float32', 'nodata': None, 'width': 5400, 'height': 3600, 'count': 1, 'crs': None, 'transform': Affine(0.0002777784814814818, 0.0, -52.5,\n",
      "       0.0, -0.0002777777777777778, -30.0)}\n"
     ]
    }
   ],
   "source": [
    "with rio.open(\"bugado.tif\") as img:\n",
    "    imgnp = img.read()\n",
    "    imgmeta = img.meta\n",
    "    img.meta['crs'] = crs.from_epsg(32621)\n",
    "    print(img.meta)"
   ]
  },
  {
   "cell_type": "code",
   "execution_count": 31,
   "id": "f11ab14f-58e8-4b13-bf24-5927d3083739",
   "metadata": {},
   "outputs": [
    {
     "name": "stdout",
     "output_type": "stream",
     "text": [
      "{'driver': 'GTiff', 'dtype': 'uint8', 'nodata': None, 'width': 12227, 'height': 8559, 'count': 1, 'crs': CRS.from_epsg(32621), 'transform': Affine(30.0, 0.0, 751080.0,\n",
      "       0.0, -30.0, -3133586.391061575)}\n"
     ]
    }
   ],
   "source": [
    "with rio.open(\"teste.tif\") as img:\n",
    "    imgnp = img.read()\n",
    "    imgmeta = img.meta\n",
    "    print(imgmeta)"
   ]
  },
  {
   "cell_type": "code",
   "execution_count": 29,
   "id": "925c2c0a-6e35-4981-8e9e-6933a5ab4af2",
   "metadata": {
    "scrolled": true
   },
   "outputs": [
    {
     "name": "stdout",
     "output_type": "stream",
     "text": [
      "[[[1.14569e+02 1.15699e+02 1.16730e+02 ... 4.19374e+01 4.05062e+01\n",
      "   4.00284e+01]\n",
      "  [1.15267e+02 1.16518e+02 1.17441e+02 ... 4.10161e+01 3.95522e+01\n",
      "   4.01134e+01]\n",
      "  [1.16478e+02 1.17644e+02 1.18326e+02 ... 3.95156e+01 3.87522e+01\n",
      "   3.97433e+01]\n",
      "  ...\n",
      "  [7.99095e+01 8.20081e+01 8.46104e+01 ... 1.42360e-01 4.12872e-01\n",
      "   4.58082e-01]\n",
      "  [7.93530e+01 8.13024e+01 8.32811e+01 ... 8.23928e-02 4.15414e-01\n",
      "   4.75967e-01]\n",
      "  [7.82311e+01 8.01742e+01 8.18797e+01 ... 2.53041e-02 3.78642e-01\n",
      "   5.30367e-01]]]\n"
     ]
    }
   ],
   "source": [
    "with rio.open(\"bugado.tif\") as img:\n",
    "    imgnp = img.read()\n",
    "\n",
    "    print(imgnp)"
   ]
  },
  {
   "cell_type": "code",
   "execution_count": null,
   "id": "f3d8fbb2-b2b0-4e6a-a555-c0dd4aaa7da2",
   "metadata": {},
   "outputs": [],
   "source": []
  }
 ],
 "metadata": {
  "kernelspec": {
   "display_name": "Python 3 (ipykernel)",
   "language": "python",
   "name": "python3"
  },
  "language_info": {
   "codemirror_mode": {
    "name": "ipython",
    "version": 3
   },
   "file_extension": ".py",
   "mimetype": "text/x-python",
   "name": "python",
   "nbconvert_exporter": "python",
   "pygments_lexer": "ipython3",
   "version": "3.12.2"
  }
 },
 "nbformat": 4,
 "nbformat_minor": 5
}
