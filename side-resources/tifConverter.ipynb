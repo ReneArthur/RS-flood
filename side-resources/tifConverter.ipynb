{
 "cells": [
  {
   "cell_type": "code",
   "execution_count": 6,
   "id": "abb9088f-6442-4f66-8133-06f87722fa8f",
   "metadata": {},
   "outputs": [],
   "source": [
    "import pandas as pd\n",
    "import rasterio\n",
    "from rasterio.transform import from_origin\n",
    "import numpy as np"
   ]
  },
  {
   "cell_type": "code",
   "execution_count": 5,
   "id": "4001c5c5-7038-439d-95e3-126d5c6b2a47",
   "metadata": {},
   "outputs": [
    {
     "data": {
      "text/html": [
       "<div>\n",
       "<style scoped>\n",
       "    .dataframe tbody tr th:only-of-type {\n",
       "        vertical-align: middle;\n",
       "    }\n",
       "\n",
       "    .dataframe tbody tr th {\n",
       "        vertical-align: top;\n",
       "    }\n",
       "\n",
       "    .dataframe thead th {\n",
       "        text-align: right;\n",
       "    }\n",
       "</style>\n",
       "<table border=\"1\" class=\"dataframe\">\n",
       "  <thead>\n",
       "    <tr style=\"text-align: right;\">\n",
       "      <th></th>\n",
       "      <th>latitude</th>\n",
       "      <th>longitude</th>\n",
       "      <th>topografia</th>\n",
       "    </tr>\n",
       "  </thead>\n",
       "  <tbody>\n",
       "    <tr>\n",
       "      <th>0</th>\n",
       "      <td>-52.5250</td>\n",
       "      <td>-28.9750</td>\n",
       "      <td>571.0</td>\n",
       "    </tr>\n",
       "    <tr>\n",
       "      <th>1</th>\n",
       "      <td>-52.5242</td>\n",
       "      <td>-28.9750</td>\n",
       "      <td>547.0</td>\n",
       "    </tr>\n",
       "    <tr>\n",
       "      <th>2</th>\n",
       "      <td>-52.5233</td>\n",
       "      <td>-28.9750</td>\n",
       "      <td>529.0</td>\n",
       "    </tr>\n",
       "    <tr>\n",
       "      <th>3</th>\n",
       "      <td>-52.5225</td>\n",
       "      <td>-28.9750</td>\n",
       "      <td>542.0</td>\n",
       "    </tr>\n",
       "    <tr>\n",
       "      <th>4</th>\n",
       "      <td>-52.5217</td>\n",
       "      <td>-28.9750</td>\n",
       "      <td>566.0</td>\n",
       "    </tr>\n",
       "    <tr>\n",
       "      <th>...</th>\n",
       "      <td>...</td>\n",
       "      <td>...</td>\n",
       "      <td>...</td>\n",
       "    </tr>\n",
       "    <tr>\n",
       "      <th>9374395</th>\n",
       "      <td>-49.4792</td>\n",
       "      <td>-31.0241</td>\n",
       "      <td>0.0</td>\n",
       "    </tr>\n",
       "    <tr>\n",
       "      <th>9374396</th>\n",
       "      <td>-49.4783</td>\n",
       "      <td>-31.0241</td>\n",
       "      <td>0.0</td>\n",
       "    </tr>\n",
       "    <tr>\n",
       "      <th>9374397</th>\n",
       "      <td>-49.4775</td>\n",
       "      <td>-31.0241</td>\n",
       "      <td>0.0</td>\n",
       "    </tr>\n",
       "    <tr>\n",
       "      <th>9374398</th>\n",
       "      <td>-49.4767</td>\n",
       "      <td>-31.0241</td>\n",
       "      <td>0.0</td>\n",
       "    </tr>\n",
       "    <tr>\n",
       "      <th>9374399</th>\n",
       "      <td>-49.4758</td>\n",
       "      <td>-31.0241</td>\n",
       "      <td>0.0</td>\n",
       "    </tr>\n",
       "  </tbody>\n",
       "</table>\n",
       "<p>9374400 rows × 3 columns</p>\n",
       "</div>"
      ],
      "text/plain": [
       "         latitude  longitude  topografia\n",
       "0        -52.5250   -28.9750       571.0\n",
       "1        -52.5242   -28.9750       547.0\n",
       "2        -52.5233   -28.9750       529.0\n",
       "3        -52.5225   -28.9750       542.0\n",
       "4        -52.5217   -28.9750       566.0\n",
       "...           ...        ...         ...\n",
       "9374395  -49.4792   -31.0241         0.0\n",
       "9374396  -49.4783   -31.0241         0.0\n",
       "9374397  -49.4775   -31.0241         0.0\n",
       "9374398  -49.4767   -31.0241         0.0\n",
       "9374399  -49.4758   -31.0241         0.0\n",
       "\n",
       "[9374400 rows x 3 columns]"
      ]
     },
     "execution_count": 5,
     "metadata": {},
     "output_type": "execute_result"
    }
   ],
   "source": [
    "# Reading the 1.4GB LAT/LONG CSV (46 Million Rows Long)\n",
    "df = pd.read_csv('possible_tif.csv').drop(columns=['Unnamed: 0'])\n",
    "df"
   ]
  },
  {
   "cell_type": "code",
   "execution_count": 8,
   "id": "9cdc99f5-f6cc-4174-93d6-75df6dcfbca1",
   "metadata": {},
   "outputs": [],
   "source": [
    "latitude = df['latitude'].values\n",
    "longitude = df['longitude'].values\n",
    "topografia = df['topografia'].values\n",
    "\n",
    "lat_uniq = np.unique(latitude)\n",
    "lon_uniq = np.unique(longitude)\n",
    "\n",
    "grid = np.empty((len(lon_uniq), len(lat_uniq)))\n",
    "\n",
    "grid[:] = np.nan"
   ]
  },
  {
   "cell_type": "code",
   "execution_count": 26,
   "id": "933fe9e8-63c2-4824-9d15-c786e9dcffc0",
   "metadata": {},
   "outputs": [
    {
     "ename": "AttributeError",
     "evalue": "'numpy.float64' object has no attribute 'append'",
     "output_type": "error",
     "traceback": [
      "\u001b[1;31m---------------------------------------------------------------------------\u001b[0m",
      "\u001b[1;31mAttributeError\u001b[0m                            Traceback (most recent call last)",
      "Cell \u001b[1;32mIn[26], line 5\u001b[0m\n\u001b[0;32m      2\u001b[0m row \u001b[38;5;241m=\u001b[39m np\u001b[38;5;241m.\u001b[39mwhere(lat_uniq \u001b[38;5;241m==\u001b[39m lat)[\u001b[38;5;241m0\u001b[39m][\u001b[38;5;241m0\u001b[39m]\n\u001b[0;32m      3\u001b[0m col \u001b[38;5;241m=\u001b[39m np\u001b[38;5;241m.\u001b[39mwhere(lon_uniq \u001b[38;5;241m==\u001b[39m lon)[\u001b[38;5;241m0\u001b[39m][\u001b[38;5;241m0\u001b[39m]\n\u001b[1;32m----> 5\u001b[0m \u001b[43mgrid\u001b[49m\u001b[43m[\u001b[49m\u001b[43mcol\u001b[49m\u001b[43m,\u001b[49m\u001b[43m \u001b[49m\u001b[43mrow\u001b[49m\u001b[43m]\u001b[49m\u001b[38;5;241;43m.\u001b[39;49m\u001b[43mappend\u001b[49m(val)\n",
      "\u001b[1;31mAttributeError\u001b[0m: 'numpy.float64' object has no attribute 'append'"
     ]
    }
   ],
   "source": [
    "for i, (lat, lon, val) in enumerate(zip(latitude, longitude, topografia)):\n",
    "    row = np.where(lat_uniq == lat)[0][0]\n",
    "    col = np.where(lon_uniq == lon)[0][0]\n",
    "\n",
    "    grid[col, row].append(val)"
   ]
  },
  {
   "cell_type": "code",
   "execution_count": 23,
   "id": "fa355a66-7f98-496c-b69c-d94b24ad232f",
   "metadata": {},
   "outputs": [],
   "source": [
    "res_lon = lon_uniq[2] - lon_uniq[1]\n",
    "res_lat = lat_uniq[2] - lat_uniq[1]\n",
    "\n",
    "x_min = lon_uniq.max() - res_lon / 2\n",
    "y_min = lat_uniq.max() - res_lat / 2"
   ]
  },
  {
   "cell_type": "code",
   "execution_count": 24,
   "id": "be7d6129-6c11-4e46-8191-f060c1b9be73",
   "metadata": {},
   "outputs": [],
   "source": [
    "transform = from_origin(y_min, x_min, res_lat, res_lon)"
   ]
  },
  {
   "cell_type": "code",
   "execution_count": 25,
   "id": "fd9c8372-33bf-46a5-ab90-afbe901d797f",
   "metadata": {},
   "outputs": [],
   "source": [
    "with rasterio.open(\n",
    "    'topografia.tif',\n",
    "    'w',\n",
    "    driver='GTiff',\n",
    "    height=grid.shape[0],\n",
    "    width=grid.shape[1],\n",
    "    count=1,\n",
    "    dtype=grid.dtype,\n",
    "    crs='EPSG:4326',\n",
    "    transform=transform\n",
    ") as dst:\n",
    "    dst.write(grid, 1)"
   ]
  },
  {
   "cell_type": "code",
   "execution_count": null,
   "id": "6c331bad-b3b4-42f3-a9d5-5b3b0d4ba058",
   "metadata": {},
   "outputs": [],
   "source": []
  },
  {
   "cell_type": "code",
   "execution_count": null,
   "id": "adbf674e-fb9e-45cc-8efe-aff6b4f2c773",
   "metadata": {},
   "outputs": [],
   "source": []
  },
  {
   "cell_type": "code",
   "execution_count": null,
   "id": "3744fb3f-182b-4fcb-8688-a87470332a12",
   "metadata": {},
   "outputs": [],
   "source": []
  }
 ],
 "metadata": {
  "kernelspec": {
   "display_name": "Python 3 (ipykernel)",
   "language": "python",
   "name": "python3"
  },
  "language_info": {
   "codemirror_mode": {
    "name": "ipython",
    "version": 3
   },
   "file_extension": ".py",
   "mimetype": "text/x-python",
   "name": "python",
   "nbconvert_exporter": "python",
   "pygments_lexer": "ipython3",
   "version": "3.12.2"
  }
 },
 "nbformat": 4,
 "nbformat_minor": 5
}
